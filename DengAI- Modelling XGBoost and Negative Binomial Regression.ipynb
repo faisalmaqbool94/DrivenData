{
 "cells": [
  {
   "cell_type": "markdown",
   "metadata": {},
   "source": [
    "## Data Prep"
   ]
  },
  {
   "cell_type": "code",
   "execution_count": 106,
   "metadata": {
    "ExecuteTime": {
     "end_time": "2017-09-05T15:15:21.171170Z",
     "start_time": "2017-09-05T15:15:21.160172Z"
    }
   },
   "outputs": [],
   "source": [
    "#Importing all the libraries\n",
    "import pandas as pd\n",
    "pd.options.display.max_rows = 999\n",
    "import numpy as np\n",
    "import seaborn as sns\n",
    "from plotnine import *\n",
    "import re\n",
    "import matplotlib\n",
    "import matplotlib.pyplot as plt\n",
    "plt.style.use('ggplot')\n",
    "%matplotlib inline"
   ]
  },
  {
   "cell_type": "code",
   "execution_count": 2,
   "metadata": {
    "ExecuteTime": {
     "end_time": "2017-09-05T12:33:58.883662Z",
     "start_time": "2017-09-05T12:33:58.632306Z"
    },
    "collapsed": true
   },
   "outputs": [],
   "source": [
    "#Import the datasets\n",
    "X_train_data = pd.read_csv('dengue_features_train.csv', infer_datetime_format=True, parse_dates=['week_start_date'])\n",
    "X_test_data = pd.read_csv('dengue_features_test.csv', infer_datetime_format=True, parse_dates=['week_start_date'])\n",
    "y_train_data = pd.read_csv('dengue_labels_train.csv')"
   ]
  },
  {
   "cell_type": "code",
   "execution_count": 3,
   "metadata": {
    "ExecuteTime": {
     "end_time": "2017-09-05T12:33:58.898664Z",
     "start_time": "2017-09-05T12:33:58.885667Z"
    },
    "collapsed": true
   },
   "outputs": [],
   "source": [
    "#Combining the training label and predictors\n",
    "train_data = pd.merge(left=X_train_data , right=y_train_data, left_on=['city', 'year', 'weekofyear'],\n",
    "                     right_on=['city', 'year', 'weekofyear'],)"
   ]
  },
  {
   "cell_type": "code",
   "execution_count": 4,
   "metadata": {
    "ExecuteTime": {
     "end_time": "2017-09-05T12:33:59.052707Z",
     "start_time": "2017-09-05T12:33:58.901668Z"
    },
    "collapsed": true
   },
   "outputs": [],
   "source": [
    "#Split the  training datasets based on the cities\n",
    "sj_train_data = train_data[train_data['city']=='sj']\n",
    "iq_train_data = train_data[train_data['city']=='iq']\n",
    "\n",
    "#Splitting the test data\n",
    "sj_test_data = X_test_data[X_test_data['city']=='sj']\n",
    "iq_test_data = X_test_data[X_test_data['city']=='iq']\n"
   ]
  },
  {
   "cell_type": "code",
   "execution_count": 26,
   "metadata": {
    "ExecuteTime": {
     "end_time": "2017-09-05T12:44:59.945322Z",
     "start_time": "2017-09-05T12:44:59.935323Z"
    },
    "scrolled": false
   },
   "outputs": [
    {
     "data": {
      "text/plain": [
       "city                                     0\n",
       "year                                     0\n",
       "weekofyear                               0\n",
       "week_start_date                          0\n",
       "ndvi_ne                                  0\n",
       "ndvi_nw                                  0\n",
       "ndvi_se                                  0\n",
       "ndvi_sw                                  0\n",
       "precipitation_amt_mm                     0\n",
       "reanalysis_air_temp_k                    0\n",
       "reanalysis_avg_temp_k                    0\n",
       "reanalysis_dew_point_temp_k              0\n",
       "reanalysis_max_air_temp_k                0\n",
       "reanalysis_min_air_temp_k                0\n",
       "reanalysis_precip_amt_kg_per_m2          0\n",
       "reanalysis_relative_humidity_percent     0\n",
       "reanalysis_sat_precip_amt_mm             0\n",
       "reanalysis_specific_humidity_g_per_kg    0\n",
       "reanalysis_tdtr_k                        0\n",
       "station_avg_temp_c                       0\n",
       "station_diur_temp_rng_c                  0\n",
       "station_max_temp_c                       0\n",
       "station_min_temp_c                       0\n",
       "station_precip_mm                        0\n",
       "total_cases                              0\n",
       "dtype: int64"
      ]
     },
     "execution_count": 26,
     "metadata": {},
     "output_type": "execute_result"
    }
   ],
   "source": [
    "#Missing data stats\n",
    "sj_train_data.isnull().sum()"
   ]
  },
  {
   "cell_type": "code",
   "execution_count": 27,
   "metadata": {
    "ExecuteTime": {
     "end_time": "2017-09-05T12:45:19.316469Z",
     "start_time": "2017-09-05T12:45:19.306467Z"
    },
    "scrolled": true
   },
   "outputs": [
    {
     "data": {
      "text/plain": [
       "city                                     0\n",
       "year                                     0\n",
       "weekofyear                               0\n",
       "week_start_date                          0\n",
       "ndvi_ne                                  0\n",
       "ndvi_nw                                  0\n",
       "ndvi_se                                  0\n",
       "ndvi_sw                                  0\n",
       "precipitation_amt_mm                     0\n",
       "reanalysis_air_temp_k                    0\n",
       "reanalysis_avg_temp_k                    0\n",
       "reanalysis_dew_point_temp_k              0\n",
       "reanalysis_max_air_temp_k                0\n",
       "reanalysis_min_air_temp_k                0\n",
       "reanalysis_precip_amt_kg_per_m2          0\n",
       "reanalysis_relative_humidity_percent     0\n",
       "reanalysis_sat_precip_amt_mm             0\n",
       "reanalysis_specific_humidity_g_per_kg    0\n",
       "reanalysis_tdtr_k                        0\n",
       "station_avg_temp_c                       0\n",
       "station_diur_temp_rng_c                  0\n",
       "station_max_temp_c                       0\n",
       "station_min_temp_c                       0\n",
       "station_precip_mm                        0\n",
       "total_cases                              0\n",
       "dtype: int64"
      ]
     },
     "execution_count": 27,
     "metadata": {},
     "output_type": "execute_result"
    }
   ],
   "source": [
    "iq_train_data.isnull().sum()"
   ]
  },
  {
   "cell_type": "code",
   "execution_count": 24,
   "metadata": {
    "ExecuteTime": {
     "end_time": "2017-09-05T12:44:53.222503Z",
     "start_time": "2017-09-05T12:44:52.940535Z"
    },
    "scrolled": true
   },
   "outputs": [
    {
     "name": "stderr",
     "output_type": "stream",
     "text": [
      "D:\\Anaconda3\\lib\\site-packages\\pandas\\core\\frame.py:2852: SettingWithCopyWarning: \n",
      "A value is trying to be set on a copy of a slice from a DataFrame\n",
      "\n",
      "See the caveats in the documentation: http://pandas.pydata.org/pandas-docs/stable/indexing.html#indexing-view-versus-copy\n",
      "  downcast=downcast, **kwargs)\n"
     ]
    }
   ],
   "source": [
    "sj_train_data.fillna(method='ffill', inplace=True)\n",
    "iq_train_data.fillna(method='ffill', inplace=True)"
   ]
  },
  {
   "cell_type": "code",
   "execution_count": 206,
   "metadata": {
    "ExecuteTime": {
     "end_time": "2017-09-05T16:51:33.270579Z",
     "start_time": "2017-09-05T16:51:33.258578Z"
    },
    "collapsed": true
   },
   "outputs": [],
   "source": [
    "#The List of non-lagged vars.\n",
    "#Highly correlated variables are removed\n",
    "# Variables removed\n",
    "# 1. reanalysis_sat_precip_amt_mm\n",
    "# 2. reanalysis_dew_point_temp_k\n",
    "predictors = [\n",
    "    'ndvi_ne',\n",
    "    'ndvi_nw',\n",
    "    'ndvi_se',\n",
    "    'ndvi_sw',\n",
    "    'precipitation_amt_mm',\n",
    "    'reanalysis_air_temp_k',\n",
    "    'reanalysis_avg_temp_k',\n",
    "    'reanalysis_max_air_temp_k',\n",
    "    'reanalysis_min_air_temp_k',\n",
    "    'reanalysis_precip_amt_kg_per_m2',\n",
    "    'reanalysis_relative_humidity_percent',\n",
    "    'reanalysis_specific_humidity_g_per_kg',\n",
    "    'reanalysis_tdtr_k',\n",
    "    'station_avg_temp_c',\n",
    "    'station_diur_temp_rng_c',\n",
    "    'station_max_temp_c',\n",
    "    'station_min_temp_c',\n",
    "    'station_precip_mm',\n",
    "]"
   ]
  },
  {
   "cell_type": "markdown",
   "metadata": {
    "ExecuteTime": {
     "end_time": "2017-09-05T14:45:10.567283Z",
     "start_time": "2017-09-05T14:45:10.562282Z"
    }
   },
   "source": [
    "### Creating Lagged variables"
   ]
  },
  {
   "cell_type": "code",
   "execution_count": 144,
   "metadata": {
    "ExecuteTime": {
     "end_time": "2017-09-05T15:40:47.732592Z",
     "start_time": "2017-09-05T15:40:47.705551Z"
    }
   },
   "outputs": [],
   "source": [
    "sj_lag1 = sj_train_data[predictors].shift(1)\n",
    "sj_lag2 = sj_train_data[predictors].shift(2)\n",
    "sj_lag3 = sj_train_data[predictors].shift(3)\n",
    "sj_lag4 = sj_train_data[predictors].shift(4)\n",
    "\n",
    "iq_lag1 = iq_train_data[predictors].shift(1)\n",
    "iq_lag2 = iq_train_data[predictors].shift(2)\n",
    "iq_lag3 = iq_train_data[predictors].shift(3)\n",
    "iq_lag4 = iq_train_data[predictors].shift(4)\n",
    "\n",
    "#Adding prefixes to the lagged values so it's easy to identify\n",
    "sj_lag1 = sj_lag1.add_prefix(prefix='lag1_')\n",
    "sj_lag2 = sj_lag2.add_prefix(prefix='lag2_')\n",
    "sj_lag3 = sj_lag3.add_prefix(prefix='lag3_')\n",
    "sj_lag4 = sj_lag4.add_prefix(prefix='lag4_')\n",
    "\n",
    "iq_lag1 = iq_lag1.add_prefix(prefix='lag1_')\n",
    "iq_lag2 = iq_lag2.add_prefix(prefix='lag2_')\n",
    "iq_lag3 = iq_lag3.add_prefix(prefix='lag3_')\n",
    "iq_lag4 = iq_lag4.add_prefix(prefix='lag4_')"
   ]
  },
  {
   "cell_type": "code",
   "execution_count": 196,
   "metadata": {
    "ExecuteTime": {
     "end_time": "2017-09-05T16:43:46.592923Z",
     "start_time": "2017-09-05T16:43:46.563932Z"
    },
    "collapsed": true
   },
   "outputs": [],
   "source": [
    "#Modifying the test data too\n",
    "sj_test_lag1 = sj_test_data[predictors].shift(1)\n",
    "sj_test_lag2 = sj_test_data[predictors].shift(2)\n",
    "sj_test_lag3 = sj_test_data[predictors].shift(3)\n",
    "sj_test_lag4 = sj_test_data[predictors].shift(4)\n",
    "\n",
    "iq_test_lag1 = iq_test_data[predictors].shift(1)\n",
    "iq_test_lag2 = iq_test_data[predictors].shift(2)\n",
    "iq_test_lag3 = iq_test_data[predictors].shift(3)\n",
    "iq_test_lag4 = iq_test_data[predictors].shift(4)\n",
    "\n",
    "#Adding prefixes to the lagged values so it's easy to identify\n",
    "sj_test_lag1 = sj_test_lag1.add_prefix(prefix='lag1_')\n",
    "sj_test_lag2 = sj_test_lag2.add_prefix(prefix='lag2_')\n",
    "sj_test_lag3 = sj_test_lag3.add_prefix(prefix='lag3_')\n",
    "sj_test_lag4 = sj_test_lag4.add_prefix(prefix='lag4_')\n",
    "\n",
    "iq_test_lag1 = iq_test_lag1.add_prefix(prefix='lag1_')\n",
    "iq_test_lag2 = iq_test_lag2.add_prefix(prefix='lag2_')\n",
    "iq_test_lag3 = iq_test_lag3.add_prefix(prefix='lag3_')\n",
    "iq_test_lag4 = iq_test_lag4.add_prefix(prefix='lag4_') "
   ]
  },
  {
   "cell_type": "code",
   "execution_count": 289,
   "metadata": {
    "ExecuteTime": {
     "end_time": "2017-09-06T05:22:20.586626Z",
     "start_time": "2017-09-06T05:22:20.385803Z"
    }
   },
   "outputs": [],
   "source": [
    "#Combining the datasets along with the lags\n",
    "sj_combo = pd.concat([sj_train_data, sj_lag1, sj_lag2, sj_lag3, sj_lag4], axis=1)\n",
    "iq_combo = pd.concat([iq_train_data, iq_lag1, iq_lag2, iq_lag3, iq_lag4], axis=1)\n",
    "\n",
    "#test set\n",
    "#Combining the datasets along with the lags\n",
    "sj_test_combo = pd.concat([sj_test_data, sj_test_lag1, sj_test_lag2, sj_test_lag3, sj_test_lag4], axis=1)\n",
    "iq_test_combo = pd.concat([iq_test_data, iq_test_lag1, iq_test_lag2, iq_test_lag3, iq_test_lag4], axis=1)\n",
    "\n",
    "sj_test_combo.fillna(method='backfill', inplace=True)\n",
    "iq_test_combo.fillna(method='backfill', inplace=True)"
   ]
  },
  {
   "cell_type": "code",
   "execution_count": 198,
   "metadata": {
    "ExecuteTime": {
     "end_time": "2017-09-05T16:45:04.649329Z",
     "start_time": "2017-09-05T16:45:04.609329Z"
    },
    "collapsed": true
   },
   "outputs": [],
   "source": [
    "# Columns to be used in correlation analysis\n",
    "\n",
    "corr_list = [\n",
    "    'ndvi_ne', 'ndvi_nw',\n",
    "       'ndvi_se', 'ndvi_sw', 'precipitation_amt_mm', 'reanalysis_air_temp_k',\n",
    "       'reanalysis_avg_temp_k', 'reanalysis_dew_point_temp_k',\n",
    "       'reanalysis_max_air_temp_k', 'reanalysis_min_air_temp_k',\n",
    "       'reanalysis_precip_amt_kg_per_m2',\n",
    "       'reanalysis_relative_humidity_percent', 'reanalysis_sat_precip_amt_mm',\n",
    "       'reanalysis_specific_humidity_g_per_kg', 'reanalysis_tdtr_k',\n",
    "       'station_avg_temp_c', 'station_diur_temp_rng_c', 'station_max_temp_c',\n",
    "       'station_min_temp_c', 'station_precip_mm', 'total_cases',\n",
    "       'lag1_ndvi_ne', 'lag1_ndvi_nw', 'lag1_ndvi_se', 'lag1_ndvi_sw',\n",
    "       'lag1_precipitation_amt_mm', 'lag1_reanalysis_air_temp_k',\n",
    "       'lag1_reanalysis_avg_temp_k', 'lag1_reanalysis_max_air_temp_k',\n",
    "       'lag1_reanalysis_min_air_temp_k',\n",
    "       'lag1_reanalysis_precip_amt_kg_per_m2',\n",
    "       'lag1_reanalysis_relative_humidity_percent',\n",
    "       'lag1_reanalysis_specific_humidity_g_per_kg', 'lag1_reanalysis_tdtr_k',\n",
    "       'lag1_station_avg_temp_c', 'lag1_station_diur_temp_rng_c',\n",
    "       'lag1_station_max_temp_c', 'lag1_station_min_temp_c',\n",
    "       'lag1_station_precip_mm', 'lag2_ndvi_ne', 'lag2_ndvi_nw',\n",
    "       'lag2_ndvi_se', 'lag2_ndvi_sw', 'lag2_precipitation_amt_mm',\n",
    "       'lag2_reanalysis_air_temp_k', 'lag2_reanalysis_avg_temp_k',\n",
    "       'lag2_reanalysis_max_air_temp_k', 'lag2_reanalysis_min_air_temp_k',\n",
    "       'lag2_reanalysis_precip_amt_kg_per_m2',\n",
    "       'lag2_reanalysis_relative_humidity_percent',\n",
    "       'lag2_reanalysis_specific_humidity_g_per_kg', 'lag2_reanalysis_tdtr_k',\n",
    "       'lag2_station_avg_temp_c', 'lag2_station_diur_temp_rng_c',\n",
    "       'lag2_station_max_temp_c', 'lag2_station_min_temp_c',\n",
    "       'lag2_station_precip_mm', 'lag3_ndvi_ne', 'lag3_ndvi_nw',\n",
    "       'lag3_ndvi_se', 'lag3_ndvi_sw', 'lag3_precipitation_amt_mm',\n",
    "       'lag3_reanalysis_air_temp_k', 'lag3_reanalysis_avg_temp_k',\n",
    "       'lag3_reanalysis_max_air_temp_k', 'lag3_reanalysis_min_air_temp_k',\n",
    "       'lag3_reanalysis_precip_amt_kg_per_m2',\n",
    "       'lag3_reanalysis_relative_humidity_percent',\n",
    "       'lag3_reanalysis_specific_humidity_g_per_kg', 'lag3_reanalysis_tdtr_k',\n",
    "       'lag3_station_avg_temp_c', 'lag3_station_diur_temp_rng_c',\n",
    "       'lag3_station_max_temp_c', 'lag3_station_min_temp_c',\n",
    "       'lag3_station_precip_mm', 'lag4_ndvi_ne', 'lag4_ndvi_nw',\n",
    "       'lag4_ndvi_se', 'lag4_ndvi_sw', 'lag4_precipitation_amt_mm',\n",
    "       'lag4_reanalysis_air_temp_k', 'lag4_reanalysis_avg_temp_k',\n",
    "       'lag4_reanalysis_max_air_temp_k', 'lag4_reanalysis_min_air_temp_k',\n",
    "       'lag4_reanalysis_precip_amt_kg_per_m2',\n",
    "       'lag4_reanalysis_relative_humidity_percent',\n",
    "       'lag4_reanalysis_specific_humidity_g_per_kg', 'lag4_reanalysis_tdtr_k',\n",
    "       'lag4_station_avg_temp_c', 'lag4_station_diur_temp_rng_c',\n",
    "       'lag4_station_max_temp_c', 'lag4_station_min_temp_c',\n",
    "       'lag4_station_precip_mm'\n",
    "]"
   ]
  },
  {
   "cell_type": "code",
   "execution_count": 164,
   "metadata": {
    "ExecuteTime": {
     "end_time": "2017-09-05T16:31:56.726681Z",
     "start_time": "2017-09-05T16:31:56.672641Z"
    }
   },
   "outputs": [],
   "source": [
    "sj_corr_list = sj_combo[corr_list].corr().loc[:,'total_cases'].sort_values()\n",
    "iq_corr_list = iq_combo[corr_list].corr().loc[:,'total_cases'].sort_values()"
   ]
  },
  {
   "cell_type": "code",
   "execution_count": 170,
   "metadata": {
    "ExecuteTime": {
     "end_time": "2017-09-05T16:33:58.387334Z",
     "start_time": "2017-09-05T16:33:58.376332Z"
    },
    "scrolled": true
   },
   "outputs": [
    {
     "data": {
      "text/plain": [
       "lag2_ndvi_se                                 -0.122935\n",
       "ndvi_se                                      -0.120024\n",
       "lag1_ndvi_se                                 -0.118539\n",
       "lag3_ndvi_se                                 -0.116370\n",
       "lag4_ndvi_se                                 -0.101915\n",
       "lag2_reanalysis_tdtr_k                       -0.088606\n",
       "lag3_reanalysis_tdtr_k                       -0.078190\n",
       "lag1_reanalysis_tdtr_k                       -0.075172\n",
       "lag4_reanalysis_tdtr_k                       -0.072100\n",
       "reanalysis_tdtr_k                            -0.067920\n",
       "lag4_station_diur_temp_rng_c                  0.001846\n",
       "ndvi_ne                                       0.004144\n",
       "lag3_station_diur_temp_rng_c                  0.005993\n",
       "lag1_ndvi_ne                                  0.007216\n",
       "lag2_ndvi_ne                                  0.008213\n",
       "lag3_ndvi_ne                                  0.008820\n",
       "lag2_station_diur_temp_rng_c                  0.011236\n",
       "lag4_ndvi_ne                                  0.014674\n",
       "lag1_station_diur_temp_rng_c                  0.018085\n",
       "lag3_ndvi_sw                                  0.024736\n",
       "lag4_ndvi_sw                                  0.028661\n",
       "lag2_ndvi_sw                                  0.031648\n",
       "station_diur_temp_rng_c                       0.034801\n",
       "lag4_station_precip_mm                        0.037190\n",
       "ndvi_sw                                       0.041055\n",
       "lag1_ndvi_sw                                  0.046898\n",
       "lag3_station_precip_mm                        0.048313\n",
       "station_precip_mm                             0.050835\n",
       "precipitation_amt_mm                          0.056942\n",
       "reanalysis_sat_precip_amt_mm                  0.056942\n",
       "lag2_ndvi_nw                                  0.057591\n",
       "lag2_station_precip_mm                        0.058302\n",
       "ndvi_nw                                       0.059208\n",
       "lag1_station_precip_mm                        0.059382\n",
       "lag3_ndvi_nw                                  0.060303\n",
       "lag1_ndvi_nw                                  0.061646\n",
       "lag4_ndvi_nw                                  0.062801\n",
       "lag4_precipitation_amt_mm                     0.069110\n",
       "lag3_precipitation_amt_mm                     0.072296\n",
       "lag1_precipitation_amt_mm                     0.073215\n",
       "lag2_precipitation_amt_mm                     0.080261\n",
       "reanalysis_precip_amt_kg_per_m2               0.106591\n",
       "lag4_reanalysis_precip_amt_kg_per_m2          0.108967\n",
       "lag1_reanalysis_precip_amt_kg_per_m2          0.117153\n",
       "lag3_reanalysis_precip_amt_kg_per_m2          0.117739\n",
       "lag2_reanalysis_precip_amt_kg_per_m2          0.123222\n",
       "reanalysis_relative_humidity_percent          0.142317\n",
       "lag1_reanalysis_relative_humidity_percent     0.150748\n",
       "lag4_reanalysis_relative_humidity_percent     0.162488\n",
       "lag2_reanalysis_relative_humidity_percent     0.162974\n",
       "lag3_reanalysis_relative_humidity_percent     0.164807\n",
       "reanalysis_avg_temp_k                         0.172569\n",
       "station_min_temp_c                            0.174285\n",
       "reanalysis_air_temp_k                         0.179402\n",
       "reanalysis_min_air_temp_k                     0.185525\n",
       "station_max_temp_c                            0.187544\n",
       "reanalysis_max_air_temp_k                     0.192635\n",
       "lag1_reanalysis_avg_temp_k                    0.194087\n",
       "station_avg_temp_c                            0.194126\n",
       "lag1_station_max_temp_c                       0.199321\n",
       "reanalysis_dew_point_temp_k                   0.201086\n",
       "lag1_reanalysis_air_temp_k                    0.201350\n",
       "reanalysis_specific_humidity_g_per_kg         0.205338\n",
       "lag1_station_min_temp_c                       0.207806\n",
       "lag1_reanalysis_min_air_temp_k                0.208704\n",
       "lag1_reanalysis_max_air_temp_k                0.210732\n",
       "lag2_reanalysis_avg_temp_k                    0.214834\n",
       "lag2_station_max_temp_c                       0.218575\n",
       "lag1_station_avg_temp_c                       0.219014\n",
       "lag2_reanalysis_air_temp_k                    0.222637\n",
       "lag1_reanalysis_specific_humidity_g_per_kg    0.225843\n",
       "lag2_reanalysis_max_air_temp_k                0.226752\n",
       "lag2_reanalysis_min_air_temp_k                0.231769\n",
       "lag2_station_min_temp_c                       0.237881\n",
       "lag3_reanalysis_avg_temp_k                    0.238833\n",
       "lag3_station_max_temp_c                       0.243483\n",
       "lag3_reanalysis_air_temp_k                    0.245438\n",
       "lag2_station_avg_temp_c                       0.246413\n",
       "lag2_reanalysis_specific_humidity_g_per_kg    0.247176\n",
       "lag3_reanalysis_max_air_temp_k                0.248572\n",
       "lag3_reanalysis_min_air_temp_k                0.250991\n",
       "lag4_reanalysis_avg_temp_k                    0.258833\n",
       "lag4_station_max_temp_c                       0.263754\n",
       "lag4_reanalysis_max_air_temp_k                0.264696\n",
       "lag3_reanalysis_specific_humidity_g_per_kg    0.265080\n",
       "lag4_reanalysis_air_temp_k                    0.265381\n",
       "lag4_reanalysis_min_air_temp_k                0.270475\n",
       "lag3_station_min_temp_c                       0.271166\n",
       "lag3_station_avg_temp_c                       0.278645\n",
       "lag4_reanalysis_specific_humidity_g_per_kg    0.278995\n",
       "lag4_station_min_temp_c                       0.296387\n",
       "lag4_station_avg_temp_c                       0.304967\n",
       "total_cases                                   1.000000\n",
       "Name: total_cases, dtype: float64"
      ]
     },
     "execution_count": 170,
     "metadata": {},
     "output_type": "execute_result"
    }
   ],
   "source": [
    "sj_corr_list"
   ]
  },
  {
   "cell_type": "code",
   "execution_count": 174,
   "metadata": {
    "ExecuteTime": {
     "end_time": "2017-09-05T16:34:46.628888Z",
     "start_time": "2017-09-05T16:34:46.617896Z"
    },
    "scrolled": true
   },
   "outputs": [
    {
     "data": {
      "text/plain": [
       "reanalysis_tdtr_k                            -0.130535\n",
       "lag1_reanalysis_tdtr_k                       -0.105279\n",
       "lag2_reanalysis_tdtr_k                       -0.103033\n",
       "lag1_ndvi_se                                 -0.081766\n",
       "lag3_reanalysis_tdtr_k                       -0.080405\n",
       "lag2_ndvi_se                                 -0.072932\n",
       "lag4_reanalysis_tdtr_k                       -0.060670\n",
       "lag3_ndvi_se                                 -0.055632\n",
       "reanalysis_max_air_temp_k                    -0.053157\n",
       "lag2_ndvi_nw                                 -0.042423\n",
       "ndvi_se                                      -0.041153\n",
       "lag1_ndvi_nw                                 -0.041053\n",
       "lag1_reanalysis_max_air_temp_k               -0.034494\n",
       "lag2_station_diur_temp_rng_c                 -0.029566\n",
       "lag2_reanalysis_max_air_temp_k               -0.029052\n",
       "lag2_ndvi_ne                                 -0.028895\n",
       "station_diur_temp_rng_c                      -0.021254\n",
       "lag2_ndvi_sw                                 -0.018125\n",
       "lag1_ndvi_sw                                 -0.017021\n",
       "lag1_ndvi_ne                                 -0.014869\n",
       "ndvi_nw                                      -0.010520\n",
       "lag3_ndvi_sw                                 -0.010335\n",
       "lag3_ndvi_ne                                 -0.009330\n",
       "lag3_ndvi_nw                                 -0.004484\n",
       "lag1_station_diur_temp_rng_c                 -0.002326\n",
       "lag3_station_diur_temp_rng_c                  0.003041\n",
       "lag3_reanalysis_max_air_temp_k                0.004422\n",
       "lag4_ndvi_se                                  0.004586\n",
       "lag4_reanalysis_max_air_temp_k                0.014100\n",
       "ndvi_ne                                       0.019740\n",
       "ndvi_sw                                       0.031369\n",
       "lag4_station_diur_temp_rng_c                  0.040168\n",
       "station_precip_mm                             0.045283\n",
       "lag4_reanalysis_relative_humidity_percent     0.048892\n",
       "lag1_station_precip_mm                        0.051380\n",
       "lag1_precipitation_amt_mm                     0.057204\n",
       "lag4_reanalysis_precip_amt_kg_per_m2          0.059325\n",
       "lag4_precipitation_amt_mm                     0.067741\n",
       "lag3_reanalysis_precip_amt_kg_per_m2          0.073385\n",
       "lag2_station_precip_mm                        0.073476\n",
       "lag4_ndvi_nw                                  0.074104\n",
       "lag4_ndvi_sw                                  0.075975\n",
       "lag4_station_precip_mm                        0.076648\n",
       "lag4_ndvi_ne                                  0.079103\n",
       "station_max_temp_c                            0.079937\n",
       "reanalysis_avg_temp_k                         0.080056\n",
       "lag1_reanalysis_avg_temp_k                    0.081637\n",
       "lag1_reanalysis_precip_amt_kg_per_m2          0.082306\n",
       "lag1_station_max_temp_c                       0.087836\n",
       "reanalysis_sat_precip_amt_mm                  0.089410\n",
       "precipitation_amt_mm                          0.089410\n",
       "lag2_precipitation_amt_mm                     0.089616\n",
       "lag3_reanalysis_relative_humidity_percent     0.090072\n",
       "lag2_reanalysis_avg_temp_k                    0.090178\n",
       "lag2_station_max_temp_c                       0.091403\n",
       "lag2_reanalysis_precip_amt_kg_per_m2          0.092311\n",
       "reanalysis_air_temp_k                         0.096666\n",
       "lag1_reanalysis_air_temp_k                    0.100102\n",
       "reanalysis_precip_amt_kg_per_m2               0.100686\n",
       "lag2_reanalysis_air_temp_k                    0.102290\n",
       "lag4_reanalysis_avg_temp_k                    0.105342\n",
       "lag3_reanalysis_avg_temp_k                    0.107437\n",
       "lag2_reanalysis_relative_humidity_percent     0.113024\n",
       "lag3_station_precip_mm                        0.113554\n",
       "station_avg_temp_c                            0.114431\n",
       "lag1_reanalysis_relative_humidity_percent     0.119585\n",
       "lag3_reanalysis_air_temp_k                    0.120314\n",
       "lag2_station_avg_temp_c                       0.121422\n",
       "lag3_station_avg_temp_c                       0.123919\n",
       "lag4_station_max_temp_c                       0.124882\n",
       "lag3_precipitation_amt_mm                     0.125089\n",
       "reanalysis_relative_humidity_percent          0.128548\n",
       "lag1_station_avg_temp_c                       0.131501\n",
       "lag4_reanalysis_air_temp_k                    0.131926\n",
       "lag3_station_max_temp_c                       0.136328\n",
       "lag4_station_avg_temp_c                       0.147046\n",
       "lag4_station_min_temp_c                       0.147257\n",
       "lag4_reanalysis_specific_humidity_g_per_kg    0.165351\n",
       "lag3_station_min_temp_c                       0.175995\n",
       "lag4_reanalysis_min_air_temp_k                0.184560\n",
       "lag1_reanalysis_min_air_temp_k                0.189098\n",
       "lag3_reanalysis_min_air_temp_k                0.192010\n",
       "lag2_station_min_temp_c                       0.192164\n",
       "station_min_temp_c                            0.202844\n",
       "lag2_reanalysis_min_air_temp_k                0.204800\n",
       "lag3_reanalysis_specific_humidity_g_per_kg    0.205801\n",
       "lag1_station_min_temp_c                       0.205811\n",
       "reanalysis_min_air_temp_k                     0.210854\n",
       "lag2_reanalysis_specific_humidity_g_per_kg    0.220294\n",
       "lag1_reanalysis_specific_humidity_g_per_kg    0.226378\n",
       "reanalysis_dew_point_temp_k                   0.228864\n",
       "reanalysis_specific_humidity_g_per_kg         0.234918\n",
       "total_cases                                   1.000000\n",
       "Name: total_cases, dtype: float64"
      ]
     },
     "execution_count": 174,
     "metadata": {},
     "output_type": "execute_result"
    }
   ],
   "source": [
    "# Lagged variables are less correlated with the target for IQ\n",
    "iq_corr_list"
   ]
  },
  {
   "cell_type": "code",
   "execution_count": 99,
   "metadata": {
    "ExecuteTime": {
     "end_time": "2017-09-05T15:09:56.448310Z",
     "start_time": "2017-09-05T15:09:56.441310Z"
    }
   },
   "outputs": [
    {
     "data": {
      "text/plain": [
       "((936, 79), (520, 79))"
      ]
     },
     "execution_count": 99,
     "metadata": {},
     "output_type": "execute_result"
    }
   ],
   "source": [
    "sj_combo.shape, iq_combo.shape"
   ]
  },
  {
   "cell_type": "code",
   "execution_count": 175,
   "metadata": {
    "ExecuteTime": {
     "end_time": "2017-09-05T16:34:55.279897Z",
     "start_time": "2017-09-05T16:34:55.269897Z"
    }
   },
   "outputs": [],
   "source": [
    "# Further splitting the data to train and validation datasets\n",
    "from sklearn.model_selection import train_test_split\n",
    "sj_train, sj_valid = train_test_split(sj_combo, test_size=0.25, random_state=1)\n",
    "iq_train, iq_valid = train_test_split(iq_combo, test_size=0.25, random_state=1)"
   ]
  },
  {
   "cell_type": "code",
   "execution_count": 176,
   "metadata": {
    "ExecuteTime": {
     "end_time": "2017-09-05T16:34:55.577560Z",
     "start_time": "2017-09-05T16:34:55.570554Z"
    }
   },
   "outputs": [
    {
     "data": {
      "text/plain": [
       "((1456, 25), (702, 97), (390, 97))"
      ]
     },
     "execution_count": 176,
     "metadata": {},
     "output_type": "execute_result"
    }
   ],
   "source": [
    "train_data.shape, sj_train.shape, iq_train.shape"
   ]
  },
  {
   "cell_type": "code",
   "execution_count": 240,
   "metadata": {
    "ExecuteTime": {
     "end_time": "2017-09-06T04:49:49.364899Z",
     "start_time": "2017-09-06T04:49:49.240510Z"
    },
    "collapsed": true
   },
   "outputs": [],
   "source": [
    "#Filling the validation datasets\n",
    "sj_valid.fillna(method='ffill', inplace=True)\n",
    "iq_valid.fillna(method='ffill', inplace=True)"
   ]
  },
  {
   "cell_type": "markdown",
   "metadata": {},
   "source": [
    "## List of predictors"
   ]
  },
  {
   "cell_type": "code",
   "execution_count": 207,
   "metadata": {
    "ExecuteTime": {
     "end_time": "2017-09-05T17:03:17.817222Z",
     "start_time": "2017-09-05T17:03:17.808222Z"
    },
    "collapsed": true
   },
   "outputs": [],
   "source": [
    "sj_predictors_v1 = [\n",
    "    'lag3_reanalysis_specific_humidity_g_per_kg', 'lag4_reanalysis_air_temp_k',\n",
    "    'lag4_reanalysis_min_air_temp_k', 'lag3_station_min_temp_c',\n",
    "    'lag3_station_avg_temp_c', 'lag4_reanalysis_specific_humidity_g_per_kg',\n",
    "    'lag4_station_avg_temp_c'\n",
    "]\n",
    "\n",
    "iq_predictors_v1 = [\n",
    "        'lag3_reanalysis_specific_humidity_g_per_kg', 'lag1_station_min_temp_c',\n",
    "    'reanalysis_min_air_temp_k', 'lag2_reanalysis_specific_humidity_g_per_kg',\n",
    "    'lag1_reanalysis_specific_humidity_g_per_kg',\n",
    "    'reanalysis_dew_point_temp_k', 'reanalysis_specific_humidity_g_per_kg'\n",
    "]"
   ]
  },
  {
   "cell_type": "markdown",
   "metadata": {},
   "source": [
    "## Let's build models!"
   ]
  },
  {
   "cell_type": "markdown",
   "metadata": {},
   "source": [
    "### XGBoost: The mother of all!\n",
    "* v1) Leaderboard MAE of 27.8726\n",
    "    - Simple XGBoost\n",
    "* v2) Leaderboard MAE of 28.8726\n",
    "    - XGBoost w RandomizedGridCV and replacing negative values\n",
    "* v3) Leaderboard MAE of 25.6322\n",
    "    - This beat the benchmark of 25.8! \n",
    "    - Used lagged features upto 4 weeks\n",
    "    - RandomizedGridCV\n",
    "    - Subset for relatively high correlations with total cases.\n",
    "     \n",
    "    "
   ]
  },
  {
   "cell_type": "code",
   "execution_count": 208,
   "metadata": {
    "ExecuteTime": {
     "end_time": "2017-09-05T17:03:20.268425Z",
     "start_time": "2017-09-05T17:03:20.264426Z"
    }
   },
   "outputs": [],
   "source": [
    "import xgboost as xgb\n",
    "from sklearn.metrics import mean_absolute_error"
   ]
  },
  {
   "cell_type": "code",
   "execution_count": 209,
   "metadata": {
    "ExecuteTime": {
     "end_time": "2017-09-05T17:03:21.228722Z",
     "start_time": "2017-09-05T17:03:21.210720Z"
    },
    "collapsed": true
   },
   "outputs": [],
   "source": [
    "import scipy.stats as st\n",
    "\n",
    "one_to_left = st.beta(10, 1)\n",
    "from_zero_positive = st.expon(0, 50)\n",
    "\n",
    "params = {\n",
    "    \"n_estimators\": st.randint(3, 400),\n",
    "    \"max_depth\": st.randint(3, 40),\n",
    "    \"learning_rate\": st.uniform(0.05, 0.4),\n",
    "    \"colsample_bytree\": one_to_left,\n",
    "    \"subsample\": one_to_left,\n",
    "    \"gamma\": st.uniform(0, 10),\n",
    "    'reg_alpha': from_zero_positive,\n",
    "    \"min_child_weight\": from_zero_positive,\n",
    "}"
   ]
  },
  {
   "cell_type": "code",
   "execution_count": 210,
   "metadata": {
    "ExecuteTime": {
     "end_time": "2017-09-05T17:03:22.523930Z",
     "start_time": "2017-09-05T17:03:22.519928Z"
    },
    "collapsed": true
   },
   "outputs": [],
   "source": [
    "# Model framework\n",
    "sj_xgb = xgb.XGBRegressor()\n",
    "iq_xgb = xgb.XGBRegressor()"
   ]
  },
  {
   "cell_type": "code",
   "execution_count": 211,
   "metadata": {
    "ExecuteTime": {
     "end_time": "2017-09-05T17:03:38.883381Z",
     "start_time": "2017-09-05T17:03:25.079597Z"
    }
   },
   "outputs": [
    {
     "data": {
      "text/plain": [
       "-24.287892719958922"
      ]
     },
     "execution_count": 211,
     "metadata": {},
     "output_type": "execute_result"
    }
   ],
   "source": [
    "from sklearn.model_selection import RandomizedSearchCV\n",
    "\n",
    "sj = RandomizedSearchCV(sj_xgb, params, n_jobs=1, scoring='neg_mean_absolute_error' ,n_iter=20)  \n",
    "sj.fit(sj_train[sj_predictors_v1], sj_train['total_cases'])  \n",
    "sj.best_score_"
   ]
  },
  {
   "cell_type": "code",
   "execution_count": 212,
   "metadata": {
    "ExecuteTime": {
     "end_time": "2017-09-05T17:03:38.893386Z",
     "start_time": "2017-09-05T17:03:38.886382Z"
    }
   },
   "outputs": [
    {
     "data": {
      "text/plain": [
       "{'colsample_bytree': 0.91068195738766333,\n",
       " 'gamma': 4.3206932884910554,\n",
       " 'learning_rate': 0.12995249393476094,\n",
       " 'max_depth': 16,\n",
       " 'min_child_weight': 24.216007236111171,\n",
       " 'n_estimators': 5,\n",
       " 'reg_alpha': 1.062585929136203,\n",
       " 'subsample': 0.91196135347851759}"
      ]
     },
     "execution_count": 212,
     "metadata": {},
     "output_type": "execute_result"
    }
   ],
   "source": [
    "sj.best_params_"
   ]
  },
  {
   "cell_type": "code",
   "execution_count": 213,
   "metadata": {
    "ExecuteTime": {
     "end_time": "2017-09-05T17:03:39.078100Z",
     "start_time": "2017-09-05T17:03:38.896382Z"
    }
   },
   "outputs": [
    {
     "data": {
      "text/plain": [
       "XGBRegressor(base_score=0.5, colsample_bylevel=1, colsample_bytree=1, gamma=0,\n",
       "       learning_rate=0.1, max_delta_step=0, max_depth=3,\n",
       "       min_child_weight=1, missing=None, n_estimators=100, nthread=-1,\n",
       "       objective='reg:linear', reg_alpha=0, reg_lambda=1,\n",
       "       scale_pos_weight=1, seed=0, silent=True, subsample=1)"
      ]
     },
     "execution_count": 213,
     "metadata": {},
     "output_type": "execute_result"
    }
   ],
   "source": [
    "sj_xgb"
   ]
  },
  {
   "cell_type": "code",
   "execution_count": 214,
   "metadata": {
    "ExecuteTime": {
     "end_time": "2017-09-05T17:03:48.627590Z",
     "start_time": "2017-09-05T17:03:39.087110Z"
    }
   },
   "outputs": [
    {
     "data": {
      "text/plain": [
       "-6.8974762525313942"
      ]
     },
     "execution_count": 214,
     "metadata": {},
     "output_type": "execute_result"
    }
   ],
   "source": [
    "iq = RandomizedSearchCV(iq_xgb, params, n_jobs=1, scoring='neg_mean_absolute_error' ,n_iter=20)  \n",
    "iq.fit(iq_train[iq_predictors_v1], iq_train['total_cases'])  \n",
    "iq.best_score_"
   ]
  },
  {
   "cell_type": "code",
   "execution_count": 215,
   "metadata": {
    "ExecuteTime": {
     "end_time": "2017-09-05T17:03:51.196842Z",
     "start_time": "2017-09-05T17:03:51.189842Z"
    }
   },
   "outputs": [
    {
     "data": {
      "text/plain": [
       "{'colsample_bytree': 0.8548464351446422,\n",
       " 'gamma': 9.3802959191278177,\n",
       " 'learning_rate': 0.077443266471102279,\n",
       " 'max_depth': 33,\n",
       " 'min_child_weight': 207.11571395958458,\n",
       " 'n_estimators': 26,\n",
       " 'reg_alpha': 90.745632904891366,\n",
       " 'subsample': 0.77306430255970426}"
      ]
     },
     "execution_count": 215,
     "metadata": {},
     "output_type": "execute_result"
    }
   ],
   "source": [
    "iq.best_params_"
   ]
  },
  {
   "cell_type": "code",
   "execution_count": 216,
   "metadata": {
    "ExecuteTime": {
     "end_time": "2017-09-05T17:03:52.128769Z",
     "start_time": "2017-09-05T17:03:52.124730Z"
    },
    "collapsed": true
   },
   "outputs": [],
   "source": [
    "#Validation MAE score"
   ]
  },
  {
   "cell_type": "code",
   "execution_count": 217,
   "metadata": {
    "ExecuteTime": {
     "end_time": "2017-09-05T17:03:53.706888Z",
     "start_time": "2017-09-05T17:03:53.696855Z"
    }
   },
   "outputs": [],
   "source": [
    "sj_valid_pred = sj.predict(sj_valid[sj_predictors_v1]).astype(int)\n",
    "iq_valid_pred = iq.predict(iq_valid[iq_predictors_v1]).astype(int)"
   ]
  },
  {
   "cell_type": "code",
   "execution_count": 218,
   "metadata": {
    "ExecuteTime": {
     "end_time": "2017-09-05T17:03:54.259643Z",
     "start_time": "2017-09-05T17:03:54.253645Z"
    }
   },
   "outputs": [
    {
     "data": {
      "text/plain": [
       "24.337606837606838"
      ]
     },
     "execution_count": 218,
     "metadata": {},
     "output_type": "execute_result"
    }
   ],
   "source": [
    "#SJ validation MAE\n",
    "mean_absolute_error(y_pred=sj_valid_pred, y_true=sj_valid['total_cases'])"
   ]
  },
  {
   "cell_type": "code",
   "execution_count": 219,
   "metadata": {
    "ExecuteTime": {
     "end_time": "2017-09-05T17:03:55.584880Z",
     "start_time": "2017-09-05T17:03:55.576914Z"
    }
   },
   "outputs": [
    {
     "data": {
      "text/plain": [
       "4.6692307692307695"
      ]
     },
     "execution_count": 219,
     "metadata": {},
     "output_type": "execute_result"
    }
   ],
   "source": [
    "#IQ validation MAE\n",
    "mean_absolute_error(y_pred=iq_valid_pred, y_true=iq_valid['total_cases'])"
   ]
  },
  {
   "cell_type": "code",
   "execution_count": 220,
   "metadata": {
    "ExecuteTime": {
     "end_time": "2017-09-05T17:03:57.134624Z",
     "start_time": "2017-09-05T17:03:57.122658Z"
    }
   },
   "outputs": [],
   "source": [
    "# Predicting\n",
    "sj_pred = sj.predict(sj_test_combo[sj_predictors_v1]).astype(int)\n",
    "iq_pred = iq.predict(iq_test_combo[iq_predictors_v1]).astype(int)"
   ]
  },
  {
   "cell_type": "code",
   "execution_count": 221,
   "metadata": {
    "ExecuteTime": {
     "end_time": "2017-09-05T17:03:58.584881Z",
     "start_time": "2017-09-05T17:03:58.580883Z"
    }
   },
   "outputs": [],
   "source": [
    "# Replacing any negative predictions with zero.\n",
    "sj_pred[sj_pred<0]=0\n",
    "iq_pred[iq_pred<0]=0"
   ]
  },
  {
   "cell_type": "markdown",
   "metadata": {
    "ExecuteTime": {
     "end_time": "2017-09-05T12:45:56.101119Z",
     "start_time": "2017-09-05T12:45:55.863536Z"
    },
    "scrolled": true
   },
   "source": [
    "#Train the model on the entire datasets\n",
    "\n",
    "##Sj training\n",
    "sj_xgb.fit(X=sj_train[predictors].values, y=sj_train['total_cases'].values, verbose=3, eval_metric=mean_absolute_error)\n",
    "##IQ training\n",
    "iq_xgb.fit(X=iq_train[predictors].values, y=iq_train['total_cases'].values, verbose=3, eval_metric=mean_absolute_error)"
   ]
  },
  {
   "cell_type": "markdown",
   "metadata": {
    "ExecuteTime": {
     "end_time": "2017-09-05T12:34:03.166984Z",
     "start_time": "2017-09-05T12:34:03.154960Z"
    },
    "collapsed": true
   },
   "source": [
    "##Predicting\n",
    "sj_pred = sj_xgb.predict(sj_test_data[predictors].values)\n",
    "iq_pred = iq_xgb.predict(iq_test_data[predictors].values)"
   ]
  },
  {
   "cell_type": "code",
   "execution_count": 222,
   "metadata": {
    "ExecuteTime": {
     "end_time": "2017-09-05T17:04:02.259279Z",
     "start_time": "2017-09-05T17:04:02.253278Z"
    },
    "collapsed": true
   },
   "outputs": [],
   "source": [
    "# Make submission\n",
    "sj_part = sj_test_data[['city', 'year', 'weekofyear']]\n",
    "iq_part = iq_test_data[['city', 'year', 'weekofyear']]"
   ]
  },
  {
   "cell_type": "code",
   "execution_count": 223,
   "metadata": {
    "ExecuteTime": {
     "end_time": "2017-09-05T17:04:02.946488Z",
     "start_time": "2017-09-05T17:04:02.825480Z"
    }
   },
   "outputs": [
    {
     "name": "stderr",
     "output_type": "stream",
     "text": [
      "D:\\Anaconda3\\lib\\site-packages\\ipykernel_launcher.py:2: SettingWithCopyWarning: \n",
      "A value is trying to be set on a copy of a slice from a DataFrame.\n",
      "Try using .loc[row_indexer,col_indexer] = value instead\n",
      "\n",
      "See the caveats in the documentation: http://pandas.pydata.org/pandas-docs/stable/indexing.html#indexing-view-versus-copy\n",
      "  \n",
      "D:\\Anaconda3\\lib\\site-packages\\ipykernel_launcher.py:3: SettingWithCopyWarning: \n",
      "A value is trying to be set on a copy of a slice from a DataFrame.\n",
      "Try using .loc[row_indexer,col_indexer] = value instead\n",
      "\n",
      "See the caveats in the documentation: http://pandas.pydata.org/pandas-docs/stable/indexing.html#indexing-view-versus-copy\n",
      "  This is separate from the ipykernel package so we can avoid doing imports until\n"
     ]
    }
   ],
   "source": [
    "#Adding the predictions\n",
    "sj_part['total_cases']=sj_pred\n",
    "iq_part['total_cases']=iq_pred"
   ]
  },
  {
   "cell_type": "code",
   "execution_count": 224,
   "metadata": {
    "ExecuteTime": {
     "end_time": "2017-09-05T17:04:06.835918Z",
     "start_time": "2017-09-05T17:04:06.828917Z"
    },
    "collapsed": true
   },
   "outputs": [],
   "source": [
    "#Exporting the submissions\n",
    "submission = sj_part.append(iq_part)"
   ]
  },
  {
   "cell_type": "code",
   "execution_count": 225,
   "metadata": {
    "ExecuteTime": {
     "end_time": "2017-09-05T17:04:07.172346Z",
     "start_time": "2017-09-05T17:04:07.156351Z"
    },
    "collapsed": true
   },
   "outputs": [],
   "source": [
    "submission.to_csv('xgb_v3- RandomizedGridScore- Lagged- subset features.csv', index=False)"
   ]
  },
  {
   "cell_type": "markdown",
   "metadata": {
    "collapsed": true
   },
   "source": [
    "### Negative Binomial Regression"
   ]
  },
  {
   "cell_type": "code",
   "execution_count": 273,
   "metadata": {
    "ExecuteTime": {
     "end_time": "2017-09-06T05:14:10.156046Z",
     "start_time": "2017-09-06T05:14:10.145087Z"
    },
    "scrolled": true
   },
   "outputs": [
    {
     "data": {
      "text/plain": [
       "lag2_ndvi_se                                 -0.122935\n",
       "ndvi_se                                      -0.120024\n",
       "lag1_ndvi_se                                 -0.118539\n",
       "lag3_ndvi_se                                 -0.116370\n",
       "lag4_ndvi_se                                 -0.101915\n",
       "lag2_reanalysis_tdtr_k                       -0.088606\n",
       "lag3_reanalysis_tdtr_k                       -0.078190\n",
       "lag1_reanalysis_tdtr_k                       -0.075172\n",
       "lag4_reanalysis_tdtr_k                       -0.072100\n",
       "reanalysis_tdtr_k                            -0.067920\n",
       "lag4_station_diur_temp_rng_c                  0.001846\n",
       "ndvi_ne                                       0.004144\n",
       "lag3_station_diur_temp_rng_c                  0.005993\n",
       "lag1_ndvi_ne                                  0.007216\n",
       "lag2_ndvi_ne                                  0.008213\n",
       "lag3_ndvi_ne                                  0.008820\n",
       "lag2_station_diur_temp_rng_c                  0.011236\n",
       "lag4_ndvi_ne                                  0.014674\n",
       "lag1_station_diur_temp_rng_c                  0.018085\n",
       "lag3_ndvi_sw                                  0.024736\n",
       "lag4_ndvi_sw                                  0.028661\n",
       "lag2_ndvi_sw                                  0.031648\n",
       "station_diur_temp_rng_c                       0.034801\n",
       "lag4_station_precip_mm                        0.037190\n",
       "ndvi_sw                                       0.041055\n",
       "lag1_ndvi_sw                                  0.046898\n",
       "lag3_station_precip_mm                        0.048313\n",
       "station_precip_mm                             0.050835\n",
       "precipitation_amt_mm                          0.056942\n",
       "reanalysis_sat_precip_amt_mm                  0.056942\n",
       "lag2_ndvi_nw                                  0.057591\n",
       "lag2_station_precip_mm                        0.058302\n",
       "ndvi_nw                                       0.059208\n",
       "lag1_station_precip_mm                        0.059382\n",
       "lag3_ndvi_nw                                  0.060303\n",
       "lag1_ndvi_nw                                  0.061646\n",
       "lag4_ndvi_nw                                  0.062801\n",
       "lag4_precipitation_amt_mm                     0.069110\n",
       "lag3_precipitation_amt_mm                     0.072296\n",
       "lag1_precipitation_amt_mm                     0.073215\n",
       "lag2_precipitation_amt_mm                     0.080261\n",
       "reanalysis_precip_amt_kg_per_m2               0.106591\n",
       "lag4_reanalysis_precip_amt_kg_per_m2          0.108967\n",
       "lag1_reanalysis_precip_amt_kg_per_m2          0.117153\n",
       "lag3_reanalysis_precip_amt_kg_per_m2          0.117739\n",
       "lag2_reanalysis_precip_amt_kg_per_m2          0.123222\n",
       "reanalysis_relative_humidity_percent          0.142317\n",
       "lag1_reanalysis_relative_humidity_percent     0.150748\n",
       "lag4_reanalysis_relative_humidity_percent     0.162488\n",
       "lag2_reanalysis_relative_humidity_percent     0.162974\n",
       "lag3_reanalysis_relative_humidity_percent     0.164807\n",
       "reanalysis_avg_temp_k                         0.172569\n",
       "station_min_temp_c                            0.174285\n",
       "reanalysis_air_temp_k                         0.179402\n",
       "reanalysis_min_air_temp_k                     0.185525\n",
       "station_max_temp_c                            0.187544\n",
       "reanalysis_max_air_temp_k                     0.192635\n",
       "lag1_reanalysis_avg_temp_k                    0.194087\n",
       "station_avg_temp_c                            0.194126\n",
       "lag1_station_max_temp_c                       0.199321\n",
       "reanalysis_dew_point_temp_k                   0.201086\n",
       "lag1_reanalysis_air_temp_k                    0.201350\n",
       "reanalysis_specific_humidity_g_per_kg         0.205338\n",
       "lag1_station_min_temp_c                       0.207806\n",
       "lag1_reanalysis_min_air_temp_k                0.208704\n",
       "lag1_reanalysis_max_air_temp_k                0.210732\n",
       "lag2_reanalysis_avg_temp_k                    0.214834\n",
       "lag2_station_max_temp_c                       0.218575\n",
       "lag1_station_avg_temp_c                       0.219014\n",
       "lag2_reanalysis_air_temp_k                    0.222637\n",
       "lag1_reanalysis_specific_humidity_g_per_kg    0.225843\n",
       "lag2_reanalysis_max_air_temp_k                0.226752\n",
       "lag2_reanalysis_min_air_temp_k                0.231769\n",
       "lag2_station_min_temp_c                       0.237881\n",
       "lag3_reanalysis_avg_temp_k                    0.238833\n",
       "lag3_station_max_temp_c                       0.243483\n",
       "lag3_reanalysis_air_temp_k                    0.245438\n",
       "lag2_station_avg_temp_c                       0.246413\n",
       "lag2_reanalysis_specific_humidity_g_per_kg    0.247176\n",
       "lag3_reanalysis_max_air_temp_k                0.248572\n",
       "lag3_reanalysis_min_air_temp_k                0.250991\n",
       "lag4_reanalysis_avg_temp_k                    0.258833\n",
       "lag4_station_max_temp_c                       0.263754\n",
       "lag4_reanalysis_max_air_temp_k                0.264696\n",
       "lag3_reanalysis_specific_humidity_g_per_kg    0.265080\n",
       "lag4_reanalysis_air_temp_k                    0.265381\n",
       "lag4_reanalysis_min_air_temp_k                0.270475\n",
       "lag3_station_min_temp_c                       0.271166\n",
       "lag3_station_avg_temp_c                       0.278645\n",
       "lag4_reanalysis_specific_humidity_g_per_kg    0.278995\n",
       "lag4_station_min_temp_c                       0.296387\n",
       "lag4_station_avg_temp_c                       0.304967\n",
       "total_cases                                   1.000000\n",
       "Name: total_cases, dtype: float64"
      ]
     },
     "execution_count": 273,
     "metadata": {},
     "output_type": "execute_result"
    }
   ],
   "source": [
    "sj_corr_list"
   ]
  },
  {
   "cell_type": "code",
   "execution_count": 298,
   "metadata": {
    "ExecuteTime": {
     "end_time": "2017-09-06T05:27:44.478178Z",
     "start_time": "2017-09-06T05:27:44.406148Z"
    }
   },
   "outputs": [],
   "source": [
    "import statsmodels.api as sm\n",
    "from statsmodels.tools import eval_measures\n",
    "import statsmodels.formula.api as smf\n",
    "\n",
    "\n",
    "#Model for SJ\n",
    "def sj_best_model(train, test):\n",
    "    # Step 1: specify the form of the model\n",
    "    model_formula = 'total_cases ~ 1 + reanalysis_specific_humidity_g_per_kg + reanalysis_dew_point_temp_k + \\\n",
    "    station_min_temp_c + station_avg_temp_c'\n",
    "    \n",
    "    grid = 10**np.arange(-8, -3, dtype=np.float64)\n",
    "\n",
    "    best_alpha = []\n",
    "    best_score = 1000\n",
    "\n",
    "    # Step 2: Find the best hyper parameter, alpha\n",
    "    for alpha in grid:\n",
    "        model = smf.glm(\n",
    "            formula=model_formula,\n",
    "            data=train,\n",
    "            family=sm.families.NegativeBinomial(alpha=alpha),\n",
    "            missing='drop')\n",
    "\n",
    "        results = model.fit()\n",
    "        predictions = results.predict(test).astype(int)\n",
    "        score = eval_measures.meanabs(predictions, test.total_cases)\n",
    "\n",
    "        if score < best_score:\n",
    "            best_alpha = alpha\n",
    "            best_score = score\n",
    "\n",
    "    print('best alpha = ', best_alpha)\n",
    "    print('best score = ', best_score)\n",
    "\n",
    "    # Step 3: refit on entire dataset\n",
    "    full_dataset = pd.concat([train, test])\n",
    "    model = smf.glm(\n",
    "        formula=model_formula,\n",
    "        data=full_dataset,\n",
    "        family=sm.families.NegativeBinomial(alpha=best_alpha),\n",
    "        missing='drop')\n",
    "\n",
    "    fitted_model = model.fit()\n",
    "    return fitted_model\n",
    "\n",
    "\n",
    "#Model for IQ\n",
    "def iq_best_model(train, test):\n",
    "    # Step 1: specify the form of the model\n",
    "    model_formula = 'total_cases ~ 1+ lag2_reanalysis_specific_humidity_g_per_kg + lag1_reanalysis_specific_humidity_g_per_kg \\\n",
    "     + reanalysis_specific_humidity_g_per_kg + reanalysis_dew_point_temp_k + station_min_temp_c + station_avg_temp_c'\n",
    "\n",
    "    grid = 10**np.arange(-8, -3, dtype=np.float64)\n",
    "\n",
    "    best_alpha = []\n",
    "    best_score = 1000\n",
    "\n",
    "    # Step 2: Find the best hyper parameter, alpha\n",
    "    for alpha in grid:\n",
    "        model = smf.glm(\n",
    "            formula=model_formula,\n",
    "            data=train,\n",
    "            family=sm.families.NegativeBinomial(alpha=alpha),\n",
    "            missing='drop')\n",
    "\n",
    "        results = model.fit()\n",
    "        predictions = results.predict(test).astype(int)\n",
    "        score = eval_measures.meanabs(predictions, test.total_cases)\n",
    "\n",
    "        if score < best_score:\n",
    "            best_alpha = alpha\n",
    "            best_score = score\n",
    "\n",
    "    print('best alpha = ', best_alpha)\n",
    "    print('best score = ', best_score)\n",
    "\n",
    "    # Step 3: refit on entire dataset\n",
    "    full_dataset = pd.concat([train, test])\n",
    "    model = smf.glm(\n",
    "        formula=model_formula,\n",
    "        data=full_dataset,\n",
    "        family=sm.families.NegativeBinomial(alpha=best_alpha),\n",
    "        missing='drop')\n",
    "\n",
    "    fitted_model = model.fit()\n",
    "    return fitted_model"
   ]
  },
  {
   "cell_type": "code",
   "execution_count": 299,
   "metadata": {
    "ExecuteTime": {
     "end_time": "2017-09-06T05:27:45.166856Z",
     "start_time": "2017-09-06T05:27:45.038825Z"
    }
   },
   "outputs": [
    {
     "name": "stdout",
     "output_type": "stream",
     "text": [
      "best alpha =  1e-08\n",
      "best score =  26.7222222222\n"
     ]
    }
   ],
   "source": [
    "sj_best_model = sj_best_model(sj_train, sj_valid)"
   ]
  },
  {
   "cell_type": "code",
   "execution_count": 300,
   "metadata": {
    "ExecuteTime": {
     "end_time": "2017-09-06T05:27:47.381981Z",
     "start_time": "2017-09-06T05:27:47.224984Z"
    }
   },
   "outputs": [
    {
     "name": "stdout",
     "output_type": "stream",
     "text": [
      "best alpha =  1e-08\n",
      "best score =  4.72307692308\n"
     ]
    }
   ],
   "source": [
    "iq_best_model = iq_best_model(iq_train, iq_valid)"
   ]
  },
  {
   "cell_type": "code",
   "execution_count": 301,
   "metadata": {
    "ExecuteTime": {
     "end_time": "2017-09-06T05:27:47.765570Z",
     "start_time": "2017-09-06T05:27:47.747571Z"
    }
   },
   "outputs": [],
   "source": [
    "# Make the predictions\n",
    "sj_pred = sj_best_model.predict(sj_test_combo).astype(int)\n",
    "iq_pred = iq_best_model.predict(iq_test_combo).astype(int)"
   ]
  },
  {
   "cell_type": "code",
   "execution_count": 302,
   "metadata": {
    "ExecuteTime": {
     "end_time": "2017-09-06T05:27:49.134249Z",
     "start_time": "2017-09-06T05:27:49.009250Z"
    }
   },
   "outputs": [
    {
     "name": "stderr",
     "output_type": "stream",
     "text": [
      "D:\\Anaconda3\\lib\\site-packages\\ipykernel_launcher.py:6: SettingWithCopyWarning: \n",
      "A value is trying to be set on a copy of a slice from a DataFrame.\n",
      "Try using .loc[row_indexer,col_indexer] = value instead\n",
      "\n",
      "See the caveats in the documentation: http://pandas.pydata.org/pandas-docs/stable/indexing.html#indexing-view-versus-copy\n",
      "  \n",
      "D:\\Anaconda3\\lib\\site-packages\\ipykernel_launcher.py:7: SettingWithCopyWarning: \n",
      "A value is trying to be set on a copy of a slice from a DataFrame.\n",
      "Try using .loc[row_indexer,col_indexer] = value instead\n",
      "\n",
      "See the caveats in the documentation: http://pandas.pydata.org/pandas-docs/stable/indexing.html#indexing-view-versus-copy\n",
      "  import sys\n"
     ]
    }
   ],
   "source": [
    "# Make submission\n",
    "sj_part = sj_test_data[['city', 'year', 'weekofyear']]\n",
    "iq_part = iq_test_data[['city', 'year', 'weekofyear']]\n",
    "\n",
    "#Adding the predictions\n",
    "sj_part['total_cases']=sj_pred\n",
    "iq_part['total_cases']=iq_pred\n",
    "\n",
    "#Exporting the submissions\n",
    "submission = sj_part.append(iq_part)"
   ]
  },
  {
   "cell_type": "code",
   "execution_count": 303,
   "metadata": {
    "ExecuteTime": {
     "end_time": "2017-09-06T05:27:50.771960Z",
     "start_time": "2017-09-06T05:27:50.756919Z"
    },
    "collapsed": true
   },
   "outputs": [],
   "source": [
    "submission.to_csv('NBR_v1- Lagged- subset features.csv', index=False)"
   ]
  },
  {
   "cell_type": "code",
   "execution_count": null,
   "metadata": {
    "collapsed": true
   },
   "outputs": [],
   "source": []
  }
 ],
 "metadata": {
  "kernelspec": {
   "display_name": "Python 3",
   "language": "python",
   "name": "python3"
  },
  "language_info": {
   "codemirror_mode": {
    "name": "ipython",
    "version": 3
   },
   "file_extension": ".py",
   "mimetype": "text/x-python",
   "name": "python",
   "nbconvert_exporter": "python",
   "pygments_lexer": "ipython3",
   "version": "3.6.1"
  },
  "toc": {
   "nav_menu": {
    "height": "23px",
    "width": "179px"
   },
   "number_sections": true,
   "sideBar": true,
   "skip_h1_title": false,
   "toc_cell": false,
   "toc_position": {
    "height": "556px",
    "left": "0px",
    "right": "1148px",
    "top": "106px",
    "width": "212px"
   },
   "toc_section_display": "block",
   "toc_window_display": false
  }
 },
 "nbformat": 4,
 "nbformat_minor": 2
}
